{
 "cells": [
  {
   "cell_type": "markdown",
   "id": "10e417b3-b5a7-4109-b12c-ff5d2e2e4fbf",
   "metadata": {},
   "source": [
    "<h1 style=\"font-size:2em\">Projet 6 - Classifiez automatiquement des biens de consommation</h1>\n"
   ]
  },
  {
   "cell_type": "markdown",
   "id": "bf05c0b9-4937-49f2-a250-5741ea167d87",
   "metadata": {
    "tags": []
   },
   "source": [
    "# Objectifs"
   ]
  },
  {
   "cell_type": "markdown",
   "id": "72d47b8d-054b-4be8-ae18-305d012d7511",
   "metadata": {
    "tags": []
   },
   "source": [
    "# Imports et configs"
   ]
  },
  {
   "cell_type": "code",
   "execution_count": 1,
   "id": "f8d75f5a-3768-4b2f-a0af-18724dc44707",
   "metadata": {},
   "outputs": [],
   "source": [
    "import pandas as pd \n",
    "pd.set_option('display.max_columns', None)"
   ]
  },
  {
   "cell_type": "code",
   "execution_count": 3,
   "id": "cd0626fd-e945-48e9-915d-965a6d273748",
   "metadata": {},
   "outputs": [],
   "source": [
    "df = pd.read_csv('df.csv', sep = \",\")"
   ]
  },
  {
   "cell_type": "markdown",
   "id": "dcf34098-d2d8-4c44-96cf-4e29e441363d",
   "metadata": {},
   "source": [
    "# Utiliser des techniques d’augmentation des données afin d'améliorer la performance des modèles."
   ]
  },
  {
   "cell_type": "markdown",
   "id": "a942c3f7-6b73-4f85-8fd5-bbafa6a8ac90",
   "metadata": {},
   "source": [
    "## Création de X"
   ]
  },
  {
   "cell_type": "code",
   "execution_count": 4,
   "id": "2c22f79e-01a8-4649-b9f6-2f0961c215a2",
   "metadata": {},
   "outputs": [
    {
     "name": "stdout",
     "output_type": "stream",
     "text": [
      "(1050, 224, 224, 3)\n"
     ]
    }
   ],
   "source": [
    "import os\n",
    "import numpy as np\n",
    "\n",
    "from tensorflow.keras.preprocessing.image import load_img, img_to_array\n",
    "from tensorflow.keras.applications.vgg16 import preprocess_input\n",
    "from tensorflow.keras.utils import to_categorical\n",
    "from PIL import Image\n",
    "\n",
    "# Augmenter la limite par défaut (ici, par exemple, fixée à une valeur très élevée)\n",
    "Image.MAX_IMAGE_PIXELS = None \n",
    "\n",
    "def image_prep_fct(df):\n",
    "    # Définir le chemin d'accès relatif aux images\n",
    "    base_image_path = \"Images\"\n",
    "\n",
    "    prepared_images = []\n",
    "    for image_name in df['image']:\n",
    "        # Construire le chemin complet de l'image\n",
    "        image_path = os.path.join(base_image_path, image_name)\n",
    "\n",
    "        # Charger, traiter et prétraiter l'image\n",
    "        img = load_img(image_path, target_size=(224, 224))\n",
    "        img = img_to_array(img)\n",
    "        img = img.reshape((img.shape[0], img.shape[1], img.shape[2]))\n",
    "        img = preprocess_input(img)\n",
    "        prepared_images.append(img)\n",
    "\n",
    "    prepared_images_np = np.array(prepared_images)\n",
    "    return prepared_images_np\n",
    "    \n",
    "images_np = image_prep_fct(df)\n",
    "X = images_np\n",
    "print(X.shape)"
   ]
  },
  {
   "cell_type": "markdown",
   "id": "b997117d-2376-42e2-981e-63df79a7f7e7",
   "metadata": {},
   "source": [
    "## Création de Y"
   ]
  },
  {
   "cell_type": "code",
   "execution_count": 5,
   "id": "d7c5e21b-84a8-47cf-a457-2a8f9513931d",
   "metadata": {},
   "outputs": [
    {
     "name": "stdout",
     "output_type": "stream",
     "text": [
      "(1050, 7)\n"
     ]
    }
   ],
   "source": [
    "from sklearn.preprocessing import LabelEncoder\n",
    "\n",
    "# Initialisation du LabelEncoder\n",
    "label_encoder = LabelEncoder()\n",
    "\n",
    "# Convertir les labels texte en labels numériques\n",
    "y_encoded = label_encoder.fit_transform(df['category_lvl_1'])\n",
    "\n",
    "# Conversion des labels numériques en one-hot encoding\n",
    "y = to_categorical(y_encoded)\n",
    "\n",
    "print(y.shape)"
   ]
  },
  {
   "cell_type": "markdown",
   "id": "d525f6e4-55dc-4beb-95f2-5b2425dc773e",
   "metadata": {},
   "source": [
    "## Création de train, validation, test"
   ]
  },
  {
   "cell_type": "markdown",
   "id": "03e76341-a64a-4359-9e44-a321f26eec96",
   "metadata": {},
   "source": [
    "- 70% pour l'entraînement\n",
    "- 15% pour la validation\n",
    "- 15% pour le test"
   ]
  },
  {
   "cell_type": "code",
   "execution_count": 6,
   "id": "78a13c6b-7426-43c1-8149-f9818b870a73",
   "metadata": {},
   "outputs": [],
   "source": [
    "from sklearn.model_selection import train_test_split\n",
    "\n",
    "X_temp, X_train, y_temp, y_train = train_test_split(X, y, test_size=0.7, random_state=42, stratify=y)\n",
    "X_val, X_test, y_val, y_test = train_test_split(X_temp, y_temp, test_size=0.5, random_state=42, stratify=y_temp)"
   ]
  },
  {
   "cell_type": "code",
   "execution_count": 7,
   "id": "43a0d7da-f0b8-482c-ab97-cfe93394e603",
   "metadata": {},
   "outputs": [
    {
     "name": "stdout",
     "output_type": "stream",
     "text": [
      "La forme de X_train est : (735, 224, 224, 3)\n",
      "La forme de X_val est : (157, 224, 224, 3)\n",
      "La forme de X_test est : (157, 224, 224, 3)\n"
     ]
    }
   ],
   "source": [
    "print(\"La forme de X_train est :\", X_train.shape)\n",
    "print(\"La forme de X_val est :\", X_val.shape)\n",
    "print(\"La forme de X_test est :\", X_val.shape)"
   ]
  },
  {
   "cell_type": "markdown",
   "id": "8ca5a7d7-b655-4ea3-bd44-a00d2e521ceb",
   "metadata": {},
   "source": [
    "## CE1 Vous avez utilisé plusieurs techniques d’augmentation des données (ex. pour des images : rotation, changement d’échelle, ajout de bruit…). "
   ]
  },
  {
   "cell_type": "markdown",
   "id": "cc13fe43-e4a4-4b19-b6d8-f43facca1264",
   "metadata": {},
   "source": [
    "**Data Augmentation:** Applique différentes techniques de modification des images pour augmenter la diversité des données et aider à prévenir le surapprentissage  \n",
    "- **RandomFlip:** Effectue un renversement aléatoire (flip) des images horizontalement.\n",
    "- **RandomRotation:** Fait pivoter l'image de manière aléatoire avec un facteur maximum de 0.1 (36° max)\n",
    "- **RandomZoom:** Zoom aléatoire avec un facteur maximum de 0.1.\n",
    "\n",
    "**On construit un modèle séquentiel qui comprend:**\n",
    "- La partie de data augmentation.\n",
    "- La couche Rescaling qui recale les valeurs des pixels pour qu'elles soient comprises entre -1 et 1.\n",
    "- Le modèle VGG16 pré-entraîné.\n",
    "- GlobalAveragePooling2D: Une couche de mise en commun qui convertit les caractéristiques 2D en un vecteur 1D.\n",
    "- Une couche Dense de 256 neurones avec une fonction d'activation ReLU.\n",
    "- Une couche Dropout avec un taux de 0,5 pour prévenir le surapprentissage.\n",
    "- Une autre couche Dense avec 7 neurones et une activation softmax (Pour classer les images dans 7 classes différentes)"
   ]
  },
  {
   "cell_type": "code",
   "execution_count": 14,
   "id": "c06c2762-4705-4927-a479-be8140be86c0",
   "metadata": {},
   "outputs": [],
   "source": [
    "from tensorflow.keras.models import Sequential\n",
    "from tensorflow.keras.layers import Conv2D, MaxPooling2D, Flatten, Dense\n",
    "from tensorflow.keras.callbacks import EarlyStopping\n",
    "import time\n",
    "\n",
    "def create_model_fct() :\n",
    "    # Data augmentation\n",
    "    data_augmentation = Sequential([\n",
    "        RandomFlip(\"horizontal\", input_shape=(224, 224, 3)),\n",
    "        RandomRotation(0.1),\n",
    "        RandomZoom(0.1),\n",
    "        # Rescaling(1./127.5, offset=-1.0)\n",
    "      ])\n",
    "    \n",
    "    # Récupération modèle pré-entraîné\n",
    "    model_base = VGG16(include_top=False, weights=\"imagenet\", input_shape=(224, 224, 3))\n",
    "    for layer in model_base.layers:\n",
    "        layer.trainable = False\n",
    "\n",
    "    # Définition du nouveau modèle\n",
    "    model = Sequential([\n",
    "                data_augmentation,\n",
    "                Rescaling(1./127.5, offset=-1),\n",
    "                model_base,\n",
    "                GlobalAveragePooling2D(),\n",
    "                Dense(256, activation='relu'),\n",
    "                Dropout(0.5),\n",
    "                Dense(7, activation='softmax')\n",
    "                ])\n",
    "\n",
    "    # compilation du modèle \n",
    "    model.compile(loss=\"categorical_crossentropy\", optimizer='rmsprop', metrics=[\"accuracy\"])\n",
    "\n",
    "    print(model.summary())\n",
    "    \n",
    "    return model"
   ]
  },
  {
   "cell_type": "code",
   "execution_count": 15,
   "id": "d08b67fa-c217-4b39-bfdb-90b9166a4a9b",
   "metadata": {},
   "outputs": [
    {
     "name": "stdout",
     "output_type": "stream",
     "text": [
      "Model: \"sequential_3\"\n",
      "_________________________________________________________________\n",
      " Layer (type)                Output Shape              Param #   \n",
      "=================================================================\n",
      " sequential_2 (Sequential)   (None, 224, 224, 3)       0         \n",
      "                                                                 \n",
      " rescaling_1 (Rescaling)     (None, 224, 224, 3)       0         \n",
      "                                                                 \n",
      " vgg16 (Functional)          (None, 7, 7, 512)         14714688  \n",
      "                                                                 \n",
      " global_average_pooling2d_1   (None, 512)              0         \n",
      " (GlobalAveragePooling2D)                                        \n",
      "                                                                 \n",
      " dense_2 (Dense)             (None, 256)               131328    \n",
      "                                                                 \n",
      " dropout_1 (Dropout)         (None, 256)               0         \n",
      "                                                                 \n",
      " dense_3 (Dense)             (None, 7)                 1799      \n",
      "                                                                 \n",
      "=================================================================\n",
      "Total params: 14,847,815\n",
      "Trainable params: 133,127\n",
      "Non-trainable params: 14,714,688\n",
      "_________________________________________________________________\n",
      "None\n"
     ]
    }
   ],
   "source": [
    "import tensorflow as tf\n",
    "from tensorflow.keras.applications.vgg16 import VGG16\n",
    "from tensorflow.keras.models import Model\n",
    "from tensorflow.keras.layers import GlobalAveragePooling2D, Dense, Dropout\n",
    "from tensorflow.keras.callbacks import ModelCheckpoint, EarlyStopping\n",
    "from tensorflow.keras.layers import Rescaling, RandomFlip, RandomRotation, RandomZoom\n",
    "\n",
    "# Création du modèle\n",
    "with tf.device('/gpu:0'): \n",
    "    model1 = create_model_fct()\n",
    "\n",
    "# Création du callback\n",
    "model1_save_path1 = \"./model1_best_weights.h5\"\n",
    "checkpoint = ModelCheckpoint(model1_save_path1, monitor='val_loss', verbose=1, save_best_only=True, mode='min')\n",
    "es = EarlyStopping(monitor='val_loss', mode='min', verbose=1, patience=5)\n",
    "callbacks_list = [checkpoint, es]"
   ]
  },
  {
   "cell_type": "code",
   "execution_count": 16,
   "id": "61c05f13-a3a7-4219-8cb5-597c37393743",
   "metadata": {},
   "outputs": [
    {
     "name": "stdout",
     "output_type": "stream",
     "text": [
      "Epoch 1/50\n",
      "WARNING:tensorflow:Using a while_loop for converting RngReadAndSkip cause there is no registered converter for this op.\n",
      "WARNING:tensorflow:Using a while_loop for converting Bitcast cause there is no registered converter for this op.\n",
      "WARNING:tensorflow:Using a while_loop for converting Bitcast cause there is no registered converter for this op.\n",
      "WARNING:tensorflow:Using a while_loop for converting StatelessRandomUniformV2 cause there is no registered converter for this op.\n",
      "WARNING:tensorflow:Using a while_loop for converting ImageProjectiveTransformV3 cause there is no registered converter for this op.\n",
      "WARNING:tensorflow:Using a while_loop for converting RngReadAndSkip cause there is no registered converter for this op.\n",
      "WARNING:tensorflow:Using a while_loop for converting Bitcast cause there is no registered converter for this op.\n",
      "WARNING:tensorflow:Using a while_loop for converting Bitcast cause there is no registered converter for this op.\n",
      "WARNING:tensorflow:Using a while_loop for converting StatelessRandomUniformV2 cause there is no registered converter for this op.\n",
      "WARNING:tensorflow:Using a while_loop for converting ImageProjectiveTransformV3 cause there is no registered converter for this op.\n",
      "WARNING:tensorflow:Using a while_loop for converting RngReadAndSkip cause there is no registered converter for this op.\n",
      "WARNING:tensorflow:Using a while_loop for converting Bitcast cause there is no registered converter for this op.\n",
      "WARNING:tensorflow:Using a while_loop for converting Bitcast cause there is no registered converter for this op.\n",
      "WARNING:tensorflow:Using a while_loop for converting StatelessRandomUniformV2 cause there is no registered converter for this op.\n",
      "WARNING:tensorflow:Using a while_loop for converting ImageProjectiveTransformV3 cause there is no registered converter for this op.\n",
      "WARNING:tensorflow:Using a while_loop for converting RngReadAndSkip cause there is no registered converter for this op.\n",
      "WARNING:tensorflow:Using a while_loop for converting Bitcast cause there is no registered converter for this op.\n",
      "WARNING:tensorflow:Using a while_loop for converting Bitcast cause there is no registered converter for this op.\n",
      "WARNING:tensorflow:Using a while_loop for converting StatelessRandomUniformV2 cause there is no registered converter for this op.\n",
      "WARNING:tensorflow:Using a while_loop for converting ImageProjectiveTransformV3 cause there is no registered converter for this op.\n",
      "12/12 [==============================] - ETA: 0s - loss: 1.8067 - accuracy: 0.2925\n",
      "Epoch 1: val_loss improved from inf to 1.36321, saving model to .\\model1_best_weights.h5\n",
      "12/12 [==============================] - 19s 1s/step - loss: 1.8067 - accuracy: 0.2925 - val_loss: 1.3632 - val_accuracy: 0.5987\n",
      "Epoch 2/50\n",
      "12/12 [==============================] - ETA: 0s - loss: 1.3640 - accuracy: 0.5224\n",
      "Epoch 2: val_loss improved from 1.36321 to 1.07490, saving model to .\\model1_best_weights.h5\n",
      "12/12 [==============================] - 13s 1s/step - loss: 1.3640 - accuracy: 0.5224 - val_loss: 1.0749 - val_accuracy: 0.6624\n",
      "Epoch 3/50\n",
      "12/12 [==============================] - ETA: 0s - loss: 1.1789 - accuracy: 0.6231\n",
      "Epoch 3: val_loss improved from 1.07490 to 0.93691, saving model to .\\model1_best_weights.h5\n",
      "12/12 [==============================] - 13s 1s/step - loss: 1.1789 - accuracy: 0.6231 - val_loss: 0.9369 - val_accuracy: 0.7006\n",
      "Epoch 4/50\n",
      "12/12 [==============================] - ETA: 0s - loss: 1.0578 - accuracy: 0.6830\n",
      "Epoch 4: val_loss improved from 0.93691 to 0.85564, saving model to .\\model1_best_weights.h5\n",
      "12/12 [==============================] - 13s 1s/step - loss: 1.0578 - accuracy: 0.6830 - val_loss: 0.8556 - val_accuracy: 0.7134\n",
      "Epoch 5/50\n",
      "12/12 [==============================] - ETA: 0s - loss: 0.9690 - accuracy: 0.7020\n",
      "Epoch 5: val_loss improved from 0.85564 to 0.80984, saving model to .\\model1_best_weights.h5\n",
      "12/12 [==============================] - 13s 1s/step - loss: 0.9690 - accuracy: 0.7020 - val_loss: 0.8098 - val_accuracy: 0.7261\n",
      "Epoch 6/50\n",
      "12/12 [==============================] - ETA: 0s - loss: 0.9107 - accuracy: 0.7224\n",
      "Epoch 6: val_loss improved from 0.80984 to 0.74099, saving model to .\\model1_best_weights.h5\n",
      "12/12 [==============================] - 13s 1s/step - loss: 0.9107 - accuracy: 0.7224 - val_loss: 0.7410 - val_accuracy: 0.7771\n",
      "Epoch 7/50\n",
      "12/12 [==============================] - ETA: 0s - loss: 0.8290 - accuracy: 0.7306\n",
      "Epoch 7: val_loss did not improve from 0.74099\n",
      "12/12 [==============================] - 13s 1s/step - loss: 0.8290 - accuracy: 0.7306 - val_loss: 0.7628 - val_accuracy: 0.7070\n",
      "Epoch 8/50\n",
      "12/12 [==============================] - ETA: 0s - loss: 0.8132 - accuracy: 0.7333\n",
      "Epoch 8: val_loss improved from 0.74099 to 0.65817, saving model to .\\model1_best_weights.h5\n",
      "12/12 [==============================] - 13s 1s/step - loss: 0.8132 - accuracy: 0.7333 - val_loss: 0.6582 - val_accuracy: 0.8089\n",
      "Epoch 9/50\n",
      "12/12 [==============================] - ETA: 0s - loss: 0.7706 - accuracy: 0.7483\n",
      "Epoch 9: val_loss improved from 0.65817 to 0.63032, saving model to .\\model1_best_weights.h5\n",
      "12/12 [==============================] - 13s 1s/step - loss: 0.7706 - accuracy: 0.7483 - val_loss: 0.6303 - val_accuracy: 0.7962\n",
      "Epoch 10/50\n",
      "12/12 [==============================] - ETA: 0s - loss: 0.7418 - accuracy: 0.7619\n",
      "Epoch 10: val_loss improved from 0.63032 to 0.61949, saving model to .\\model1_best_weights.h5\n",
      "12/12 [==============================] - 13s 1s/step - loss: 0.7418 - accuracy: 0.7619 - val_loss: 0.6195 - val_accuracy: 0.8217\n",
      "Epoch 11/50\n",
      "12/12 [==============================] - ETA: 0s - loss: 0.7256 - accuracy: 0.7646\n",
      "Epoch 11: val_loss improved from 0.61949 to 0.60786, saving model to .\\model1_best_weights.h5\n",
      "12/12 [==============================] - 13s 1s/step - loss: 0.7256 - accuracy: 0.7646 - val_loss: 0.6079 - val_accuracy: 0.8153\n",
      "Epoch 12/50\n",
      "12/12 [==============================] - ETA: 0s - loss: 0.7195 - accuracy: 0.7782\n",
      "Epoch 12: val_loss improved from 0.60786 to 0.60592, saving model to .\\model1_best_weights.h5\n",
      "12/12 [==============================] - 13s 1s/step - loss: 0.7195 - accuracy: 0.7782 - val_loss: 0.6059 - val_accuracy: 0.7962\n",
      "Epoch 13/50\n",
      "12/12 [==============================] - ETA: 0s - loss: 0.6945 - accuracy: 0.7837\n",
      "Epoch 13: val_loss improved from 0.60592 to 0.58061, saving model to .\\model1_best_weights.h5\n",
      "12/12 [==============================] - 13s 1s/step - loss: 0.6945 - accuracy: 0.7837 - val_loss: 0.5806 - val_accuracy: 0.8217\n",
      "Epoch 14/50\n",
      "12/12 [==============================] - ETA: 0s - loss: 0.6506 - accuracy: 0.8082\n",
      "Epoch 14: val_loss improved from 0.58061 to 0.55875, saving model to .\\model1_best_weights.h5\n",
      "12/12 [==============================] - 13s 1s/step - loss: 0.6506 - accuracy: 0.8082 - val_loss: 0.5588 - val_accuracy: 0.8471\n",
      "Epoch 15/50\n",
      "12/12 [==============================] - ETA: 0s - loss: 0.6282 - accuracy: 0.7986\n",
      "Epoch 15: val_loss improved from 0.55875 to 0.55394, saving model to .\\model1_best_weights.h5\n",
      "12/12 [==============================] - 12s 1s/step - loss: 0.6282 - accuracy: 0.7986 - val_loss: 0.5539 - val_accuracy: 0.8280\n",
      "Epoch 16/50\n",
      "12/12 [==============================] - ETA: 0s - loss: 0.6230 - accuracy: 0.7918\n",
      "Epoch 16: val_loss improved from 0.55394 to 0.54968, saving model to .\\model1_best_weights.h5\n",
      "12/12 [==============================] - 13s 1s/step - loss: 0.6230 - accuracy: 0.7918 - val_loss: 0.5497 - val_accuracy: 0.8471\n",
      "Epoch 17/50\n",
      "12/12 [==============================] - ETA: 0s - loss: 0.5824 - accuracy: 0.8163\n",
      "Epoch 17: val_loss improved from 0.54968 to 0.54503, saving model to .\\model1_best_weights.h5\n",
      "12/12 [==============================] - 13s 1s/step - loss: 0.5824 - accuracy: 0.8163 - val_loss: 0.5450 - val_accuracy: 0.8344\n",
      "Epoch 18/50\n",
      "12/12 [==============================] - ETA: 0s - loss: 0.5868 - accuracy: 0.8054\n",
      "Epoch 18: val_loss improved from 0.54503 to 0.53806, saving model to .\\model1_best_weights.h5\n",
      "12/12 [==============================] - 13s 1s/step - loss: 0.5868 - accuracy: 0.8054 - val_loss: 0.5381 - val_accuracy: 0.8599\n",
      "Epoch 19/50\n",
      "12/12 [==============================] - ETA: 0s - loss: 0.5769 - accuracy: 0.8136\n",
      "Epoch 19: val_loss improved from 0.53806 to 0.52187, saving model to .\\model1_best_weights.h5\n",
      "12/12 [==============================] - 13s 1s/step - loss: 0.5769 - accuracy: 0.8136 - val_loss: 0.5219 - val_accuracy: 0.8344\n",
      "Epoch 20/50\n",
      "12/12 [==============================] - ETA: 0s - loss: 0.5359 - accuracy: 0.8136\n",
      "Epoch 20: val_loss improved from 0.52187 to 0.51620, saving model to .\\model1_best_weights.h5\n",
      "12/12 [==============================] - 13s 1s/step - loss: 0.5359 - accuracy: 0.8136 - val_loss: 0.5162 - val_accuracy: 0.8344\n",
      "Epoch 21/50\n",
      "12/12 [==============================] - ETA: 0s - loss: 0.5421 - accuracy: 0.8231\n",
      "Epoch 21: val_loss did not improve from 0.51620\n",
      "12/12 [==============================] - 12s 1s/step - loss: 0.5421 - accuracy: 0.8231 - val_loss: 0.5323 - val_accuracy: 0.8408\n",
      "Epoch 22/50\n",
      "12/12 [==============================] - ETA: 0s - loss: 0.5248 - accuracy: 0.8381\n",
      "Epoch 22: val_loss improved from 0.51620 to 0.51310, saving model to .\\model1_best_weights.h5\n",
      "12/12 [==============================] - 12s 1s/step - loss: 0.5248 - accuracy: 0.8381 - val_loss: 0.5131 - val_accuracy: 0.8471\n",
      "Epoch 23/50\n",
      "12/12 [==============================] - ETA: 0s - loss: 0.5266 - accuracy: 0.8340\n",
      "Epoch 23: val_loss improved from 0.51310 to 0.49605, saving model to .\\model1_best_weights.h5\n",
      "12/12 [==============================] - 13s 1s/step - loss: 0.5266 - accuracy: 0.8340 - val_loss: 0.4960 - val_accuracy: 0.8535\n",
      "Epoch 24/50\n",
      "12/12 [==============================] - ETA: 0s - loss: 0.5154 - accuracy: 0.8286\n",
      "Epoch 24: val_loss did not improve from 0.49605\n",
      "12/12 [==============================] - 13s 1s/step - loss: 0.5154 - accuracy: 0.8286 - val_loss: 0.5613 - val_accuracy: 0.8025\n",
      "Epoch 25/50\n",
      "12/12 [==============================] - ETA: 0s - loss: 0.4790 - accuracy: 0.8340\n",
      "Epoch 25: val_loss did not improve from 0.49605\n",
      "12/12 [==============================] - 13s 1s/step - loss: 0.4790 - accuracy: 0.8340 - val_loss: 0.5220 - val_accuracy: 0.8217\n",
      "Epoch 26/50\n",
      "12/12 [==============================] - ETA: 0s - loss: 0.4705 - accuracy: 0.8435\n",
      "Epoch 26: val_loss did not improve from 0.49605\n",
      "12/12 [==============================] - 13s 1s/step - loss: 0.4705 - accuracy: 0.8435 - val_loss: 0.5216 - val_accuracy: 0.8408\n",
      "Epoch 27/50\n",
      "12/12 [==============================] - ETA: 0s - loss: 0.4684 - accuracy: 0.8463\n",
      "Epoch 27: val_loss did not improve from 0.49605\n",
      "12/12 [==============================] - 13s 1s/step - loss: 0.4684 - accuracy: 0.8463 - val_loss: 0.5514 - val_accuracy: 0.8153\n",
      "Epoch 28/50\n",
      "12/12 [==============================] - ETA: 0s - loss: 0.4674 - accuracy: 0.8544\n",
      "Epoch 28: val_loss did not improve from 0.49605\n",
      "12/12 [==============================] - 13s 1s/step - loss: 0.4674 - accuracy: 0.8544 - val_loss: 0.5227 - val_accuracy: 0.8217\n",
      "Epoch 28: early stopping\n",
      "Le temps d'entraînement est de: 368.70 secondes.\n"
     ]
    }
   ],
   "source": [
    "import time\n",
    "\n",
    "# Enregistrez l'heure de début\n",
    "start_time = time.time()\n",
    "\n",
    "# Entraîner sur les données d'entraînement (X_train, y_train)\n",
    "with tf.device('/gpu:0'): \n",
    "    history1 = model1.fit(X_train, y_train, epochs=50, batch_size=64, \n",
    "                       callbacks=callbacks_list, validation_data=(X_val, y_val), verbose=1)\n",
    "\n",
    "# Enregistrez l'heure de fin\n",
    "end_time = time.time()\n",
    "\n",
    "# Calculez et affichez la durée\n",
    "duration = end_time - start_time\n",
    "print(f\"Le temps d'entraînement est de: {duration:.2f} secondes.\")"
   ]
  },
  {
   "cell_type": "code",
   "execution_count": 17,
   "id": "1363b3ee-d504-4188-84c9-3fb599b7e6a9",
   "metadata": {},
   "outputs": [
    {
     "data": {
      "image/png": "[encoded data removed]",
      "text/plain": [
       "<Figure size 1000x500 with 2 Axes>"
      ]
     },
     "metadata": {},
     "output_type": "display_data"
    }
   ],
   "source": [
    "from plot_keras_history import show_history, plot_history\n",
    "import matplotlib.pyplot as plt\n",
    "\n",
    "show_history(history1)\n",
    "plot_history(history1, path=\"standard.png\")\n",
    "plt.close()"
   ]
  },
  {
   "cell_type": "code",
   "execution_count": 18,
   "id": "6e5d5be1-d6e4-4be6-b99d-600e65e56af5",
   "metadata": {},
   "outputs": [
    {
     "name": "stdout",
     "output_type": "stream",
     "text": [
      "Validation Loss     :  0.4960\n",
      "Validation Accuracy :  0.8535\n",
      "\n",
      "Test Loss           :  0.7200\n",
      "Test Accuracy       :  0.7722\n"
     ]
    }
   ],
   "source": [
    "# Score de l'epoch optimal\n",
    "\n",
    "model1.load_weights(model1_save_path1)\n",
    "\n",
    "loss, accuracy = model1.evaluate(X_val, y_val, verbose=False)\n",
    "print(\"Validation Loss     :  {:.4f}\".format(loss))\n",
    "print(\"Validation Accuracy :  {:.4f}\".format(accuracy))\n",
    "\n",
    "print(\"\")\n",
    "\n",
    "loss, accuracy = model1.evaluate(X_test, y_test, verbose=False)\n",
    "print(\"Test Loss           :  {:.4f}\".format(loss))\n",
    "print(\"Test Accuracy       :  {:.4f}\".format(accuracy))"
   ]
  },
  {
   "cell_type": "code",
   "execution_count": 2,
   "id": "3c00e874-5ce4-4ae7-bf93-3c5410a9947e",
   "metadata": {},
   "outputs": [
    {
     "data": {
      "text/html": [
       "<style type=\"text/css\">\n",
       "#T_c2f67_row0_col0, #T_c2f67_row0_col3, #T_c2f67_row2_col2, #T_c2f67_row3_col1 {\n",
       "  background-color: green;\n",
       "}\n",
       "</style>\n",
       "<table id=\"T_c2f67\">\n",
       "  <thead>\n",
       "    <tr>\n",
       "      <th class=\"blank level0\" >&nbsp;</th>\n",
       "      <th id=\"T_c2f67_level0_col0\" class=\"col_heading level0 col0\" >Nb_Epochs</th>\n",
       "      <th id=\"T_c2f67_level0_col1\" class=\"col_heading level0 col1\" >test_loss</th>\n",
       "      <th id=\"T_c2f67_level0_col2\" class=\"col_heading level0 col2\" >test_accuracy</th>\n",
       "      <th id=\"T_c2f67_level0_col3\" class=\"col_heading level0 col3\" >temps (s)</th>\n",
       "    </tr>\n",
       "    <tr>\n",
       "      <th class=\"index_name level0\" >Modèle</th>\n",
       "      <th class=\"blank col0\" >&nbsp;</th>\n",
       "      <th class=\"blank col1\" >&nbsp;</th>\n",
       "      <th class=\"blank col2\" >&nbsp;</th>\n",
       "      <th class=\"blank col3\" >&nbsp;</th>\n",
       "    </tr>\n",
       "  </thead>\n",
       "  <tbody>\n",
       "    <tr>\n",
       "      <th id=\"T_c2f67_level0_row0\" class=\"row_heading level0 row0\" >Perceptron multicouche</th>\n",
       "      <td id=\"T_c2f67_row0_col0\" class=\"data row0 col0\" >6</td>\n",
       "      <td id=\"T_c2f67_row0_col1\" class=\"data row0 col1\" >2072.290000</td>\n",
       "      <td id=\"T_c2f67_row0_col2\" class=\"data row0 col2\" >0.354400</td>\n",
       "      <td id=\"T_c2f67_row0_col3\" class=\"data row0 col3\" >21.110000</td>\n",
       "    </tr>\n",
       "    <tr>\n",
       "      <th id=\"T_c2f67_level0_row1\" class=\"row_heading level0 row1\" >Modèle simple CNN</th>\n",
       "      <td id=\"T_c2f67_row1_col0\" class=\"data row1 col0\" >9</td>\n",
       "      <td id=\"T_c2f67_row1_col1\" class=\"data row1 col1\" >1.900600</td>\n",
       "      <td id=\"T_c2f67_row1_col2\" class=\"data row1 col2\" >0.341800</td>\n",
       "      <td id=\"T_c2f67_row1_col3\" class=\"data row1 col3\" >162.670000</td>\n",
       "    </tr>\n",
       "    <tr>\n",
       "      <th id=\"T_c2f67_level0_row2\" class=\"row_heading level0 row2\" >VGG16 + Transfer Learning</th>\n",
       "      <td id=\"T_c2f67_row2_col0\" class=\"data row2 col0\" >15</td>\n",
       "      <td id=\"T_c2f67_row2_col1\" class=\"data row2 col1\" >1.335000</td>\n",
       "      <td id=\"T_c2f67_row2_col2\" class=\"data row2 col2\" >0.816500</td>\n",
       "      <td id=\"T_c2f67_row2_col3\" class=\"data row2 col3\" >1722.070000</td>\n",
       "    </tr>\n",
       "    <tr>\n",
       "      <th id=\"T_c2f67_level0_row3\" class=\"row_heading level0 row3\" >VGG16 + Transfer Learning + DATA AUGMENTATION</th>\n",
       "      <td id=\"T_c2f67_row3_col0\" class=\"data row3 col0\" >28</td>\n",
       "      <td id=\"T_c2f67_row3_col1\" class=\"data row3 col1\" >0.720000</td>\n",
       "      <td id=\"T_c2f67_row3_col2\" class=\"data row3 col2\" >0.772200</td>\n",
       "      <td id=\"T_c2f67_row3_col3\" class=\"data row3 col3\" >368.700000</td>\n",
       "    </tr>\n",
       "  </tbody>\n",
       "</table>\n"
      ],
      "text/plain": [
       "<pandas.io.formats.style.Styler at 0x1f1884ffb50>"
      ]
     },
     "execution_count": 2,
     "metadata": {},
     "output_type": "execute_result"
    }
   ],
   "source": [
    "import pandas as pd\n",
    "\n",
    "data = {\n",
    "    \"Modèle\": [\"Perceptron multicouche\", \"Modèle simple CNN\", \"VGG16 + Transfer Learning\", \"VGG16 + Transfer Learning + DATA AUGMENTATION\"],\n",
    "    \"Nb_Epochs\": [6, 9, 15, 28],\n",
    "    \"test_loss\": [2072.2900, 1.9006, 1.335, 0.7200],\n",
    "    \"test_accuracy\": [0.3544, 0.3418, 0.8165, 0.7722],\n",
    "    \"temps (s)\": [21.11, 162.67, 1722.07, 368.70]\n",
    "}\n",
    "\n",
    "df = pd.DataFrame(data)\n",
    "df.set_index('Modèle', inplace=True)\n",
    "\n",
    "def highlight_cells(col):\n",
    "    # Dictionnaire pour mapper les colonnes aux fonctions appropriées\n",
    "    mappers = {\n",
    "        'Nb_Epochs': min,\n",
    "        'test_loss': min,\n",
    "        'test_accuracy': max,\n",
    "        'temps (s)': min\n",
    "    }\n",
    "    \n",
    "    if col.name in mappers:\n",
    "        criteria = mappers[col.name](col)\n",
    "        return ['background-color: green' if v == criteria else '' for v in col]\n",
    "    return [''] * len(col)\n",
    "\n",
    "styled_df = df.style.apply(highlight_cells)\n",
    "styled_df\n"
   ]
  },
  {
   "cell_type": "code",
   "execution_count": null,
   "id": "c204f0a4-23ec-4849-a5e3-1eb1a83864e3",
   "metadata": {},
   "outputs": [],
   "source": []
  }
 ],
 "metadata": {
  "celltoolbar": "Format de la Cellule Texte Brut",
  "kernelspec": {
   "display_name": "Python 3 (ipykernel)",
   "language": "python",
   "name": "python3"
  },
  "language_info": {
   "codemirror_mode": {
    "name": "ipython",
    "version": 3
   },
   "file_extension": ".py",
   "mimetype": "text/x-python",
   "name": "python",
   "nbconvert_exporter": "python",
   "pygments_lexer": "ipython3",
   "version": "3.10.10"
  },
  "vscode": {
   "interpreter": {
    "hash": "66168a667a11ac16aca0d0d9742c8419f93457ff66115bf85239ea370d417636"
   }
  }
 },
 "nbformat": 4,
 "nbformat_minor": 5
}
